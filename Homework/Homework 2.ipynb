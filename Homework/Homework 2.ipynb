{
 "cells": [
  {
   "cell_type": "raw",
   "metadata": {
    "collapsed": false
   },
   "source": [
    "Combining Libraries and Booleans: Homework 2."
   ]
  },
  {
   "cell_type": "code",
   "execution_count": 13,
   "metadata": {
    "collapsed": false
   },
   "outputs": [
   ],
   "source": [
    "import math"
   ]
  },
  {
   "cell_type": "raw",
   "metadata": {
    "collapsed": false
   },
   "source": [
    "1.) Is 5^10 greater than or equal to 6^9? Create a boolean and print True or False."
   ]
  },
  {
   "cell_type": "raw",
   "metadata": {
    "collapsed": false
   },
   "source": [
    "2.) Is sin(10) equal to cos(80)? Create a boolean and print True or False."
   ]
  },
  {
   "cell_type": "raw",
   "metadata": {
    "collapsed": false
   },
   "source": [
    "3.) You asked Sarah, John, and Jakob if they have been to the movies lately. Their responses are stored as booleans. Have Sarah and John been to the movies recently? Have Sarah or John been to the movies? Print these as two separate True or False answers. "
   ]
  },
  {
   "cell_type": "code",
   "execution_count": 14,
   "metadata": {
    "collapsed": false
   },
   "outputs": [
    {
     "name": "stdout",
     "output_type": "stream",
     "text": [
      "True\n"
     ]
    }
   ],
   "source": [
    "#1\n",
    "number1 = 5^10\n",
    "number2 = 6^9\n",
    "result1 = number1 >= number2\n",
    "print(result1)"
   ]
  },
  {
   "cell_type": "code",
   "execution_count": 15,
   "metadata": {
    "collapsed": false
   },
   "outputs": [
    {
     "name": "stdout",
     "output_type": "stream",
     "text": [
      "False\n"
     ]
    }
   ],
   "source": [
    "#2\n",
    "number2a = math.sin(10)\n",
    "number2b = math.cos(80)\n",
    "result2 = number2a == number2b\n",
    "print(result2)"
   ]
  },
  {
   "cell_type": "code",
   "execution_count": 16,
   "metadata": {
    "collapsed": false
   },
   "outputs": [
    {
     "name": "stdout",
     "output_type": "stream",
     "text": [
      "False\n",
      "True\n"
     ]
    }
   ],
   "source": [
    "#Problem 3\n",
    "sarah_been_to_movies = True\n",
    "john_been_to_movies = False\n",
    "jakob_been_to_movies = True\n",
    "\n",
    "sarah_and_john_been_to_movies = sarah_been_to_movies and john_been_to_movies\n",
    "print(sarah_and_john_been_to_movies)\n",
    "\n",
    "sarah_or_john_been_to_movies = sarah_been_to_movies or john_been_to_movies\n",
    "print(sarah_or_john_been_to_movies)"
   ]
  }
 ],
 "metadata": {
  "kernelspec": {
   "display_name": "Python 3 (Ubuntu Linux)",
   "language": "python",
   "name": "python3-ubuntu",
   "resource_dir": "/usr/local/share/jupyter/kernels/python3-ubuntu"
  },
  "language_info": {
   "codemirror_mode": {
    "name": "ipython",
    "version": 3
   },
   "file_extension": ".py",
   "mimetype": "text/x-python",
   "name": "python",
   "nbconvert_exporter": "python",
   "pygments_lexer": "ipython3",
   "version": "3.8.5"
  }
 },
 "nbformat": 4,
 "nbformat_minor": 4
}