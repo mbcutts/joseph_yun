{
 "cells": [
  {
   "cell_type": "markdown",
   "metadata": {
    "collapsed": false
   },
   "source": [
    "Create a factorial calculator. That is, for any input n (an integer), please calculate n! = n * n - 1 * n -2 * … * 2 * 1. For example, for an input of 6:\n",
    "\n",
    "6! = 6 * 5 * 4 * 3 * 2 * 1 = 720\n",
    "\n",
    "You need to wrap this all in a function so I can use it for any n!\n",
    "\n",
    "Hint for reversing a for loop from zero to n: use\n",
    "for i in reversed(range(0, n)):"
   ]
  },
  {
   "cell_type": "code",
   "execution_count": 37,
   "metadata": {
    "collapsed": false
   },
   "outputs": [
   ],
   "source": [
    "def multiplyList(myList) :\n",
    "    ###https://www.geeksforgeeks.org/python-multiply-numbers-list-3-different-ways/###\n",
    "    # Multiply elements one by one\n",
    "    result = 1\n",
    "    for x in myList:\n",
    "         result = result * x\n",
    "    return result\n",
    "\n",
    "\n",
    "def factorial_calculator(n):\n",
    "    #your function here, don't forget to return!\n",
    "    print(\"Calculating the factorial of\", n)\n",
    "    factorial_list=[]\n",
    "    for i in reversed(range(1,n+1)):\n",
    "        print(i)\n",
    "        factorial_list.append(i)\n",
    "    factorial_value=(multiplyList(factorial_list))\n",
    "    return factorial_value"
   ]
  },
  {
   "cell_type": "code",
   "execution_count": 38,
   "metadata": {
    "collapsed": false
   },
   "outputs": [
    {
     "name": "stdout",
     "output_type": "stream",
     "text": [
      "Calculating the factorial of 3\n",
      "3\n",
      "2\n",
      "1\n",
      "woohoo lets go!!!!\n"
     ]
    }
   ],
   "source": [
    "if (factorial_calculator(3) == 6):\n",
    "    print(\"woohoo lets go!!!!\")\n",
    "else:\n",
    "    print(\"not quite\")"
   ]
  },
  {
   "cell_type": "code",
   "execution_count": 39,
   "metadata": {
    "collapsed": false
   },
   "outputs": [
    {
     "name": "stdout",
     "output_type": "stream",
     "text": [
      "Calculating the factorial of 6\n",
      "6\n",
      "5\n",
      "4\n",
      "3\n",
      "2\n",
      "1\n",
      "Nice you're doing awesome!\n"
     ]
    }
   ],
   "source": [
    "if (factorial_calculator(6) == 720):\n",
    "    print(\"Nice you're doing awesome!\")\n",
    "else:\n",
    "    print(\"not quite\")"
   ]
  },
  {
   "cell_type": "code",
   "execution_count": 40,
   "metadata": {
    "collapsed": false
   },
   "outputs": [
    {
     "name": "stdout",
     "output_type": "stream",
     "text": [
      "Calculating the factorial of 10\n",
      "10\n",
      "9\n",
      "8\n",
      "7\n",
      "6\n",
      "5\n",
      "4\n",
      "3\n",
      "2\n",
      "1\n",
      "you passed the final test\n"
     ]
    }
   ],
   "source": [
    "if (factorial_calculator(10) == 3628800):\n",
    "    print(\"you passed the final test\")\n",
    "else:\n",
    "    print(\"not quite\")"
   ]
  },
  {
   "cell_type": "code",
   "execution_count": 0,
   "metadata": {
    "collapsed": false
   },
   "outputs": [
   ],
   "source": [
   ]
  }
 ],
 "metadata": {
  "kernelspec": {
   "display_name": "Python 3 (Ubuntu Linux)",
   "language": "python",
   "name": "python3-ubuntu",
   "resource_dir": "/usr/local/share/jupyter/kernels/python3-ubuntu"
  },
  "language_info": {
   "codemirror_mode": {
    "name": "ipython",
    "version": 3
   },
   "file_extension": ".py",
   "mimetype": "text/x-python",
   "name": "python",
   "nbconvert_exporter": "python",
   "pygments_lexer": "ipython3",
   "version": "3.8.5"
  }
 },
 "nbformat": 4,
 "nbformat_minor": 4
}