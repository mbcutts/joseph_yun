{
 "cells": [
  {
   "cell_type": "markdown",
   "metadata": {
    "collapsed": false
   },
   "source": [
    "# Control flow\n",
    "The control flow in Python is done using 4 spaces (indentation) to define the block of code that have to be considered. So the space in Python is part of the language and is used to define and change the meaning of the code.\n",
    "\n",
    "The **indentation** (4 spaces) in Python it's important!\n",
    "\n",
    "The main control flows that we will see in this notebook are:\n",
    "* if, elif, else;\n",
    "* for and list-comprehension;\n",
    "* while, break and continue;"
   ]
  },
  {
   "cell_type": "markdown",
   "metadata": {
    "collapsed": false
   },
   "source": [
    "# ```if, elif, else``` Statement\n"
   ]
  },
  {
   "cell_type": "markdown",
   "metadata": {
    "collapsed": false
   },
   "source": [
    "This flow is used to decide what to do when a **boolean evaluation** is verified.\n",
    "Syntax:\n",
    "\n",
    "```python\n",
    "if {condition}:           # <= note the `:`\n",
    "    {do something}\n",
    "elif {condition_1}:      # <= note the `:`\n",
    "    {manage this case}\n",
    "else:                     # <= note the `:`\n",
    "    {do other things}\n",
    "```\n",
    "\n",
    "`elif` or `else` after an `if` statement are optional."
   ]
  },
  {
   "cell_type": "markdown",
   "metadata": {
    "collapsed": false
   },
   "source": [
    "Use an `if` condition to assign a variable:\n",
    "\n",
    "```python\n",
    "{variable} = {value when condition is true} if {condition} else {value condition is false}\n",
    "```"
   ]
  },
  {
   "cell_type": "code",
   "execution_count": 7,
   "metadata": {
    "collapsed": false
   },
   "outputs": [
    {
     "name": "stdout",
     "output_type": "stream",
     "text": [
      "Welcome to Maryland, Mitch\n"
     ]
    }
   ],
   "source": [
    "is_Mitch_in_Maryland = True\n",
    "is_Joseph_in_Montana = True\n",
    "\n",
    "\n",
    "\n",
    "if(is_Mitch_in_Maryland or is_Joseph_in_Montana):\n",
    "    name = \"Mitch\"\n",
    "    print(f\"Welcome to Maryland, {name}\")\n",
    "elif(is_Joseph_in_Montana):\n",
    "    name = \"Joseph\"\n",
    "    print(f\"Welcome to Montana, {name}\")\n",
    "else:\n",
    "    print(\"Nobody went anywhere :(\")\n"
   ]
  },
  {
   "cell_type": "code",
   "execution_count": 9,
   "metadata": {
    "collapsed": false,
    "pycharm": {
     "name": "#%%\n"
    }
   },
   "outputs": [
    {
     "name": "stdout",
     "output_type": "stream",
     "text": [
      "2 is even!\n"
     ]
    }
   ],
   "source": [
    "# Multiple-line IF\n",
    "\n",
    "number = 2\n",
    "\n",
    "if number % 2: #% calculates the remainder\n",
    "    print(f\"{number} is odd!\")\n",
    "else:\n",
    "    print(f\"{number} is even!\")\n",
    "    "
   ]
  },
  {
   "cell_type": "markdown",
   "metadata": {
    "collapsed": false
   },
   "source": [
    "## ```switch/case``` Statement\n",
    "In Python, the switch/case statement does not exist. Instead, `ìf` with multiple `elif` are required."
   ]
  },
  {
   "cell_type": "code",
   "execution_count": 12,
   "metadata": {
    "cocalc": {
     "outputs": {
      "0": {
       "name": "input",
       "opts": {
        "password": false,
        "prompt": "Select your month"
       },
       "output_type": "stream",
       "value": "14"
      }
     }
    },
    "collapsed": false,
    "pycharm": {
     "name": "#%%\n"
    }
   },
   "outputs": [
    {
     "name": "stdout",
     "output_type": "stream",
     "text": "Select your month 14"
    },
    {
     "name": "stdout",
     "output_type": "stream",
     "text": [
      "WHAT ARE YOU DOING!!!\n",
      "You selected liar\n"
     ]
    }
   ],
   "source": [
    "option = input('Select your month')\n",
    "# Cast input as integer\n",
    "option_int = int(option)\n",
    "\n",
    "if option_int == 1:\n",
    "    month = 'January'\n",
    "elif option_int == 2:\n",
    "    month = 'February'\n",
    "elif option_int == 3:\n",
    "    month = 'Other'\n",
    "elif option_int > 12: #good coding practice: watch out for edge cases -- it doesn't make sense for someone to select more than 12. \n",
    "    print(\"WHAT ARE YOU DOING!!!\")\n",
    "    month = 'liar'\n",
    "else:\n",
    "    month = 'Other'\n",
    "\n",
    "print(f'You selected {month}')"
   ]
  },
  {
   "cell_type": "markdown",
   "metadata": {
    "collapsed": false
   },
   "source": [
    "# ```for``` Statement\n",
    "\n",
    "The `for` loop are used to repeat several times something.\n",
    "\n",
    "Syntax:\n",
    "\n",
    "```python\n",
    "for {variable} in {something that is iterable}:  # <= note the `:`\n",
    "    {do something}\n",
    "```\n",
    "As an example, we can apply the code defined in the previous section to check if a list of numbers are odd or even:"
   ]
  },
  {
   "cell_type": "code",
   "execution_count": 3,
   "metadata": {
    "collapsed": false,
    "pycharm": {
     "name": "#%%\n"
    }
   },
   "outputs": [
    {
     "name": "stdout",
     "output_type": "stream",
     "text": [
      "1 is odd!\n",
      "2 is even!\n",
      "3 is odd!\n",
      "4 is even!\n",
      "5 is odd!\n",
      "6.5 is odd!\n",
      "7.0 is odd!\n"
     ]
    }
   ],
   "source": [
    "numbers = [1, 2, 3, 4, 5, 6.5, 7.0]\n",
    "#for each number in the ^numbers list.\n",
    "for number in numbers:\n",
    "    print(f\"{number} is {'odd' if number % 2 else 'even'}!\")"
   ]
  },
  {
   "cell_type": "markdown",
   "metadata": {
    "collapsed": false
   },
   "source": [
    "It is possible to nest more for cycles together."
   ]
  },
  {
   "cell_type": "code",
   "execution_count": 13,
   "metadata": {
    "collapsed": false,
    "pycharm": {
     "name": "#%%\n"
    }
   },
   "outputs": [
    {
     "name": "stdout",
     "output_type": "stream",
     "text": [
      "2 is even!\n",
      "4 is even!\n",
      "6 is even!\n",
      "12 is even!\n",
      "10 is even!\n",
      "20 is even!\n",
      "14 is even!\n",
      "28 is even!\n"
     ]
    }
   ],
   "source": [
    "for odd in [1, 3, 5, 7]: #for each number in the list [1,3,5,7]\n",
    "    for even in [2, 4]: #for each number in the list [1,2]\n",
    "        #first round: 1 * 2\n",
    "        #second round: 1 * 4\n",
    "        #third round: 3*2\n",
    "        number = odd * even\n",
    "        print(f\"{number} is {'odd' if number % 2 else 'even'}!\")\n"
   ]
  },
  {
   "cell_type": "code",
   "execution_count": 0,
   "metadata": {
    "collapsed": false
   },
   "outputs": [
   ],
   "source": [
   ]
  },
  {
   "cell_type": "markdown",
   "metadata": {
    "collapsed": false
   },
   "source": [
    "## List comprehension (optional)"
   ]
  },
  {
   "cell_type": "code",
   "execution_count": 5,
   "metadata": {
    "collapsed": false,
    "pycharm": {
     "name": "#%%\n"
    }
   },
   "outputs": [
   ],
   "source": [
    "colors = [\"red\", \"green\", \"blue\"]"
   ]
  },
  {
   "cell_type": "code",
   "execution_count": 6,
   "metadata": {
    "collapsed": false,
    "pycharm": {
     "name": "#%%\n"
    }
   },
   "outputs": [
    {
     "name": "stdout",
     "output_type": "stream",
     "text": [
      "[['red', 3], ['green', 5], ['blue', 4]]\n"
     ]
    }
   ],
   "source": [
    "myvar = [[color, len(color)] for color in colors]\n",
    "print(myvar)"
   ]
  },
  {
   "cell_type": "code",
   "execution_count": 7,
   "metadata": {
    "collapsed": false,
    "pycharm": {
     "name": "#%%\n"
    }
   },
   "outputs": [
    {
     "name": "stdout",
     "output_type": "stream",
     "text": [
      "[['red', 3], ['green', 5], ['blue', 4]]\n"
     ]
    }
   ],
   "source": [
    "myvar = []\n",
    "for color in colors:\n",
    "    myvar.append([color, len(color)])\n",
    "print(myvar)"
   ]
  },
  {
   "cell_type": "markdown",
   "metadata": {
    "collapsed": false
   },
   "source": [
    "List comprehension with an if condition"
   ]
  },
  {
   "cell_type": "code",
   "execution_count": 8,
   "metadata": {
    "collapsed": false,
    "pycharm": {
     "name": "#%%\n"
    }
   },
   "outputs": [
    {
     "data": {
      "text/plain": [
       "[['green', 5], ['blue', 4]]"
      ]
     },
     "execution_count": 8,
     "metadata": {
     },
     "output_type": "execute_result"
    }
   ],
   "source": [
    "[[color, len(color)] for color in colors if len(color) > 3]"
   ]
  },
  {
   "cell_type": "code",
   "execution_count": 9,
   "metadata": {
    "collapsed": false,
    "pycharm": {
     "name": "#%%\n"
    }
   },
   "outputs": [
    {
     "name": "stdout",
     "output_type": "stream",
     "text": [
      "[['green', 5], ['blue', 4]]\n"
     ]
    }
   ],
   "source": [
    "myvar = []\n",
    "for color in colors:\n",
    "    if len(color) > 3:\n",
    "        myvar.append([color, len(color)])\n",
    "print(myvar)"
   ]
  },
  {
   "cell_type": "markdown",
   "metadata": {
    "collapsed": false
   },
   "source": [
    "We can define also nested cycles:"
   ]
  },
  {
   "cell_type": "code",
   "execution_count": 10,
   "metadata": {
    "collapsed": false,
    "pycharm": {
     "name": "#%%\n"
    }
   },
   "outputs": [
   ],
   "source": [
    "myvar = [[i, j] for i in [1, 3, 5] for j in [2, 4, 6]]"
   ]
  },
  {
   "cell_type": "code",
   "execution_count": 11,
   "metadata": {
    "collapsed": false,
    "pycharm": {
     "name": "#%%\n"
    }
   },
   "outputs": [
    {
     "name": "stdout",
     "output_type": "stream",
     "text": [
      "[[1, 2], [1, 4], [1, 6], [3, 2], [3, 4], [3, 6], [5, 2], [5, 4], [5, 6]]\n"
     ]
    }
   ],
   "source": [
    "myvar = []\n",
    "for i in [1, 3, 5]:\n",
    "    for j in [2, 4, 6]:\n",
    "        myvar.append([i, j])\n",
    "print(myvar)"
   ]
  },
  {
   "cell_type": "code",
   "execution_count": 12,
   "metadata": {
    "collapsed": false,
    "pycharm": {
     "name": "#%%\n"
    }
   },
   "outputs": [
   ],
   "source": [
    "myvar = [[[i, j] for i in [1, 3, 5]] for j in [2, 4, 6]]"
   ]
  },
  {
   "cell_type": "code",
   "execution_count": 13,
   "metadata": {
    "collapsed": false,
    "pycharm": {
     "name": "#%%\n"
    }
   },
   "outputs": [
    {
     "name": "stdout",
     "output_type": "stream",
     "text": [
      "[[[1, 2], [1, 4], [1, 6]], [[3, 2], [3, 4], [3, 6]], [[5, 2], [5, 4], [5, 6]]]\n"
     ]
    }
   ],
   "source": [
    "myvar = []\n",
    "for i in [1, 3, 5]:\n",
    "    innerlist = []\n",
    "    for j in [2, 4, 6]:\n",
    "        innerlist.append([i, j])\n",
    "    myvar.append(innerlist)\n",
    "print(myvar)"
   ]
  },
  {
   "cell_type": "markdown",
   "metadata": {
    "collapsed": false
   },
   "source": [
    "# ```while``` Statement\n",
    "Loop that will be executed as long as the condition is true.\n",
    "\n",
    "Syntax:\n",
    "```python\n",
    "while {condition}:\n",
    "    {do something}\n",
    "```"
   ]
  },
  {
   "cell_type": "code",
   "execution_count": 14,
   "metadata": {
    "collapsed": false,
    "pycharm": {
     "name": "#%%\n"
    }
   },
   "outputs": [
    {
     "name": "stdout",
     "output_type": "stream",
     "text": [
      "\n",
      "a\n",
      "aa\n",
      "aaa\n"
     ]
    }
   ],
   "source": [
    "# initialize a variable\n",
    "x = 0\n",
    "# condition, break the cycle when False\n",
    "while x < 4:\n",
    "    print('a' * x)\n",
    "    x += 1\n"
   ]
  },
  {
   "cell_type": "code",
   "execution_count": 0,
   "metadata": {
    "collapsed": false
   },
   "outputs": [
   ],
   "source": [
   ]
  }
 ],
 "metadata": {
  "kernelspec": {
   "display_name": "Python 3 (Ubuntu Linux)",
   "language": "python",
   "name": "python3-ubuntu",
   "resource_dir": "/usr/local/share/jupyter/kernels/python3-ubuntu"
  },
  "language_info": {
   "codemirror_mode": {
    "name": "ipython",
    "version": 3
   },
   "file_extension": ".py",
   "mimetype": "text/x-python",
   "name": "python",
   "nbconvert_exporter": "python",
   "pygments_lexer": "ipython3",
   "version": "3.8.2"
  }
 },
 "nbformat": 4,
 "nbformat_minor": 4
}