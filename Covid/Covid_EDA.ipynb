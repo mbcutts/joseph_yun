{
 "cells": [
  {
   "cell_type": "code",
   "execution_count": 2,
   "metadata": {
    "collapsed": false
   },
   "outputs": [
   ],
   "source": [
    "import pandas as pd"
   ]
  },
  {
   "cell_type": "code",
   "execution_count": 2,
   "metadata": {
    "collapsed": false
   },
   "outputs": [
    {
     "name": "stdout",
     "output_type": "stream",
     "text": [
      "--2022-05-27 21:21:36--  https://github.com/CSSEGISandData/COVID-19/blob/master/csse_covid_19_data/csse_covid_19_daily_reports/05-26-2022.csv\r\n",
      "Resolving github.com (github.com)... 192.30.255.113\r\n",
      "Connecting to github.com (github.com)|192.30.255.113|:443... connected.\r\n"
     ]
    },
    {
     "name": "stdout",
     "output_type": "stream",
     "text": [
      "HTTP request sent, awaiting response... "
     ]
    },
    {
     "name": "stdout",
     "output_type": "stream",
     "text": [
      "200 OK\r\n",
      "Length: unspecified [text/html]\r\n",
      "Saving to: ‘05-26-2022.csv’\r\n",
      "\r\n",
      "\r05-26-2022.csv          [<=>                 ]       0  --.-KB/s               "
     ]
    },
    {
     "name": "stdout",
     "output_type": "stream",
     "text": [
      "\r05-26-2022.csv          [ <=>                ]   1.57M  --.-KB/s    in 0.1s    \r\n",
      "\r\n",
      "2022-05-27 21:21:36 (11.1 MB/s) - ‘05-26-2022.csv’ saved [1648233]\r\n",
      "\r\n"
     ]
    }
   ],
   "source": [
    "!wget https://github.com/CSSEGISandData/COVID-19/blob/master/csse_covid_19_data/csse_covid_19_daily_reports/05-26-2022.csv"
   ]
  },
  {
   "cell_type": "code",
   "execution_count": 11,
   "metadata": {
    "collapsed": false
   },
   "outputs": [
    {
     "data": {
      "text/plain": [
       "0.0"
      ]
     },
     "execution_count": 11,
     "metadata": {
     },
     "output_type": "execute_result"
    }
   ],
   "source": [
    "data=pd.read_csv('05-26-2022.csv')\n",
    "size=len(data.index)\n",
    "data.head(15)\n",
    "data[\"Recovered\"].sum()"
   ]
  },
  {
   "cell_type": "code",
   "execution_count": 7,
   "metadata": {
    "collapsed": false
   },
   "outputs": [
    {
     "data": {
      "text/html": [
       "<div>\n",
       "<style scoped>\n",
       "    .dataframe tbody tr th:only-of-type {\n",
       "        vertical-align: middle;\n",
       "    }\n",
       "\n",
       "    .dataframe tbody tr th {\n",
       "        vertical-align: top;\n",
       "    }\n",
       "\n",
       "    .dataframe thead th {\n",
       "        text-align: right;\n",
       "    }\n",
       "</style>\n",
       "<table border=\"1\" class=\"dataframe\">\n",
       "  <thead>\n",
       "    <tr style=\"text-align: right;\">\n",
       "      <th></th>\n",
       "      <th>FIPS</th>\n",
       "      <th>Admin2</th>\n",
       "      <th>Province_State</th>\n",
       "      <th>Country_Region</th>\n",
       "      <th>Last_Update</th>\n",
       "      <th>Lat</th>\n",
       "      <th>Long_</th>\n",
       "      <th>Confirmed</th>\n",
       "      <th>Deaths</th>\n",
       "      <th>Recovered</th>\n",
       "      <th>Active</th>\n",
       "      <th>Combined_Key</th>\n",
       "      <th>Incident_Rate</th>\n",
       "      <th>Case_Fatality_Ratio</th>\n",
       "    </tr>\n",
       "  </thead>\n",
       "  <tbody>\n",
       "    <tr>\n",
       "      <th>79</th>\n",
       "      <td>NaN</td>\n",
       "      <td>NaN</td>\n",
       "      <td>Diamond Princess</td>\n",
       "      <td>Canada</td>\n",
       "      <td>2020-12-21 13:27:30</td>\n",
       "      <td>NaN</td>\n",
       "      <td>NaN</td>\n",
       "      <td>0</td>\n",
       "      <td>1</td>\n",
       "      <td>NaN</td>\n",
       "      <td>NaN</td>\n",
       "      <td>Diamond Princess, Canada</td>\n",
       "      <td>NaN</td>\n",
       "      <td>NaN</td>\n",
       "    </tr>\n",
       "    <tr>\n",
       "      <th>176</th>\n",
       "      <td>NaN</td>\n",
       "      <td>NaN</td>\n",
       "      <td>Unknown</td>\n",
       "      <td>Colombia</td>\n",
       "      <td>2022-05-27 04:20:56</td>\n",
       "      <td>NaN</td>\n",
       "      <td>NaN</td>\n",
       "      <td>0</td>\n",
       "      <td>300</td>\n",
       "      <td>NaN</td>\n",
       "      <td>NaN</td>\n",
       "      <td>Unknown, Colombia</td>\n",
       "      <td>NaN</td>\n",
       "      <td>NaN</td>\n",
       "    </tr>\n",
       "    <tr>\n",
       "      <th>367</th>\n",
       "      <td>NaN</td>\n",
       "      <td>NaN</td>\n",
       "      <td>NaN</td>\n",
       "      <td>Korea, North</td>\n",
       "      <td>2022-05-27 04:20:56</td>\n",
       "      <td>40.3399</td>\n",
       "      <td>127.5101</td>\n",
       "      <td>1</td>\n",
       "      <td>6</td>\n",
       "      <td>NaN</td>\n",
       "      <td>NaN</td>\n",
       "      <td>Korea, North</td>\n",
       "      <td>0.003879</td>\n",
       "      <td>600.000000</td>\n",
       "    </tr>\n",
       "    <tr>\n",
       "      <th>1383</th>\n",
       "      <td>90017.0</td>\n",
       "      <td>Unassigned</td>\n",
       "      <td>Illinois</td>\n",
       "      <td>US</td>\n",
       "      <td>2022-05-27 04:20:56</td>\n",
       "      <td>NaN</td>\n",
       "      <td>NaN</td>\n",
       "      <td>84</td>\n",
       "      <td>2433</td>\n",
       "      <td>NaN</td>\n",
       "      <td>NaN</td>\n",
       "      <td>Unassigned, Illinois, US</td>\n",
       "      <td>NaN</td>\n",
       "      <td>2896.428571</td>\n",
       "    </tr>\n",
       "    <tr>\n",
       "      <th>1476</th>\n",
       "      <td>90018.0</td>\n",
       "      <td>Unassigned</td>\n",
       "      <td>Indiana</td>\n",
       "      <td>US</td>\n",
       "      <td>2022-05-27 04:20:56</td>\n",
       "      <td>NaN</td>\n",
       "      <td>NaN</td>\n",
       "      <td>0</td>\n",
       "      <td>27</td>\n",
       "      <td>NaN</td>\n",
       "      <td>NaN</td>\n",
       "      <td>Unassigned, Indiana, US</td>\n",
       "      <td>NaN</td>\n",
       "      <td>NaN</td>\n",
       "    </tr>\n",
       "    <tr>\n",
       "      <th>1922</th>\n",
       "      <td>90024.0</td>\n",
       "      <td>Unassigned</td>\n",
       "      <td>Maryland</td>\n",
       "      <td>US</td>\n",
       "      <td>2022-05-27 04:20:56</td>\n",
       "      <td>NaN</td>\n",
       "      <td>NaN</td>\n",
       "      <td>0</td>\n",
       "      <td>38</td>\n",
       "      <td>NaN</td>\n",
       "      <td>NaN</td>\n",
       "      <td>Unassigned, Maryland, US</td>\n",
       "      <td>NaN</td>\n",
       "      <td>NaN</td>\n",
       "    </tr>\n",
       "    <tr>\n",
       "      <th>2590</th>\n",
       "      <td>80036.0</td>\n",
       "      <td>Out of NY</td>\n",
       "      <td>New York</td>\n",
       "      <td>US</td>\n",
       "      <td>2022-05-27 04:20:56</td>\n",
       "      <td>NaN</td>\n",
       "      <td>NaN</td>\n",
       "      <td>0</td>\n",
       "      <td>467</td>\n",
       "      <td>NaN</td>\n",
       "      <td>NaN</td>\n",
       "      <td>Out of NY, New York, US</td>\n",
       "      <td>NaN</td>\n",
       "      <td>NaN</td>\n",
       "    </tr>\n",
       "    <tr>\n",
       "      <th>2850</th>\n",
       "      <td>90039.0</td>\n",
       "      <td>Unassigned</td>\n",
       "      <td>Ohio</td>\n",
       "      <td>US</td>\n",
       "      <td>2022-05-27 04:20:56</td>\n",
       "      <td>NaN</td>\n",
       "      <td>NaN</td>\n",
       "      <td>0</td>\n",
       "      <td>5</td>\n",
       "      <td>NaN</td>\n",
       "      <td>NaN</td>\n",
       "      <td>Unassigned, Ohio, US</td>\n",
       "      <td>NaN</td>\n",
       "      <td>NaN</td>\n",
       "    </tr>\n",
       "    <tr>\n",
       "      <th>2933</th>\n",
       "      <td>90040.0</td>\n",
       "      <td>Unassigned</td>\n",
       "      <td>Oklahoma</td>\n",
       "      <td>US</td>\n",
       "      <td>2022-05-27 04:20:56</td>\n",
       "      <td>NaN</td>\n",
       "      <td>NaN</td>\n",
       "      <td>1132</td>\n",
       "      <td>1670</td>\n",
       "      <td>NaN</td>\n",
       "      <td>NaN</td>\n",
       "      <td>Unassigned, Oklahoma, US</td>\n",
       "      <td>NaN</td>\n",
       "      <td>147.526502</td>\n",
       "    </tr>\n",
       "  </tbody>\n",
       "</table>\n",
       "</div>"
      ],
      "text/plain": [
       "         FIPS      Admin2    Province_State Country_Region  \\\n",
       "79        NaN         NaN  Diamond Princess         Canada   \n",
       "176       NaN         NaN           Unknown       Colombia   \n",
       "367       NaN         NaN               NaN   Korea, North   \n",
       "1383  90017.0  Unassigned          Illinois             US   \n",
       "1476  90018.0  Unassigned           Indiana             US   \n",
       "1922  90024.0  Unassigned          Maryland             US   \n",
       "2590  80036.0   Out of NY          New York             US   \n",
       "2850  90039.0  Unassigned              Ohio             US   \n",
       "2933  90040.0  Unassigned          Oklahoma             US   \n",
       "\n",
       "              Last_Update      Lat     Long_  Confirmed  Deaths  Recovered  \\\n",
       "79    2020-12-21 13:27:30      NaN       NaN          0       1        NaN   \n",
       "176   2022-05-27 04:20:56      NaN       NaN          0     300        NaN   \n",
       "367   2022-05-27 04:20:56  40.3399  127.5101          1       6        NaN   \n",
       "1383  2022-05-27 04:20:56      NaN       NaN         84    2433        NaN   \n",
       "1476  2022-05-27 04:20:56      NaN       NaN          0      27        NaN   \n",
       "1922  2022-05-27 04:20:56      NaN       NaN          0      38        NaN   \n",
       "2590  2022-05-27 04:20:56      NaN       NaN          0     467        NaN   \n",
       "2850  2022-05-27 04:20:56      NaN       NaN          0       5        NaN   \n",
       "2933  2022-05-27 04:20:56      NaN       NaN       1132    1670        NaN   \n",
       "\n",
       "      Active              Combined_Key  Incident_Rate  Case_Fatality_Ratio  \n",
       "79       NaN  Diamond Princess, Canada            NaN                  NaN  \n",
       "176      NaN         Unknown, Colombia            NaN                  NaN  \n",
       "367      NaN              Korea, North       0.003879           600.000000  \n",
       "1383     NaN  Unassigned, Illinois, US            NaN          2896.428571  \n",
       "1476     NaN   Unassigned, Indiana, US            NaN                  NaN  \n",
       "1922     NaN  Unassigned, Maryland, US            NaN                  NaN  \n",
       "2590     NaN   Out of NY, New York, US            NaN                  NaN  \n",
       "2850     NaN      Unassigned, Ohio, US            NaN                  NaN  \n",
       "2933     NaN  Unassigned, Oklahoma, US            NaN           147.526502  "
      ]
     },
     "execution_count": 7,
     "metadata": {
     },
     "output_type": "execute_result"
    }
   ],
   "source": [
    "data[data[\"Confirmed\"]<data[\"Deaths\"]]"
   ]
  }
 ],
 "metadata": {
  "kernelspec": {
   "display_name": "Python 3 (Ubuntu Linux)",
   "language": "python",
   "name": "python3-ubuntu",
   "resource_dir": "/usr/local/share/jupyter/kernels/python3-ubuntu"
  }
 },
 "nbformat": 4,
 "nbformat_minor": 4
}